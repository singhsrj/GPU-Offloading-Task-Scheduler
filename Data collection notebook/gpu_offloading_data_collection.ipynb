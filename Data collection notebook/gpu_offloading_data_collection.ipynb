{
 "cells": [
  {
   "cell_type": "code",
   "execution_count": null,
   "id": "392138fd",
   "metadata": {},
   "outputs": [],
   "source": [
    "import torch\n",
    "import os\n",
    "import time\n",
    "import psutil\n",
    "import pynvml\n",
    "import csv\n",
    "import random\n",
    "#use venv torch_cuda126 to use torch with cuda"
   ]
  },
  {
   "cell_type": "code",
   "execution_count": 2,
   "id": "fc5ce280",
   "metadata": {},
   "outputs": [
    {
     "name": "stdout",
     "output_type": "stream",
     "text": [
      "Collecting pynvml\n",
      "  Downloading pynvml-13.0.1-py3-none-any.whl.metadata (5.6 kB)\n",
      "Collecting nvidia-ml-py>=12.0.0 (from pynvml)\n",
      "  Downloading nvidia_ml_py-13.580.82-py3-none-any.whl.metadata (9.6 kB)\n",
      "Downloading pynvml-13.0.1-py3-none-any.whl (28 kB)\n",
      "Downloading nvidia_ml_py-13.580.82-py3-none-any.whl (49 kB)\n",
      "Installing collected packages: nvidia-ml-py, pynvml\n",
      "Successfully installed nvidia-ml-py-13.580.82 pynvml-13.0.1\n"
     ]
    }
   ],
   "source": [
    "!pip install pynvml"
   ]
  },
  {
   "cell_type": "code",
   "execution_count": 4,
   "id": "45ee9178",
   "metadata": {},
   "outputs": [
    {
     "name": "stdout",
     "output_type": "stream",
     "text": [
      "False\n",
      "0\n"
     ]
    },
    {
     "ename": "AssertionError",
     "evalue": "Torch not compiled with CUDA enabled",
     "output_type": "error",
     "traceback": [
      "\u001b[1;31m---------------------------------------------------------------------------\u001b[0m",
      "\u001b[1;31mAssertionError\u001b[0m                            Traceback (most recent call last)",
      "Cell \u001b[1;32mIn[4], line 3\u001b[0m\n\u001b[0;32m      1\u001b[0m \u001b[38;5;28mprint\u001b[39m(torch\u001b[38;5;241m.\u001b[39mcuda\u001b[38;5;241m.\u001b[39mis_available())  \u001b[38;5;66;03m# Should return True\u001b[39;00m\n\u001b[0;32m      2\u001b[0m \u001b[38;5;28mprint\u001b[39m(torch\u001b[38;5;241m.\u001b[39mcuda\u001b[38;5;241m.\u001b[39mdevice_count())  \u001b[38;5;66;03m# Should return the number of GPUs available\u001b[39;00m\n\u001b[1;32m----> 3\u001b[0m \u001b[38;5;28mprint\u001b[39m(torch\u001b[38;5;241m.\u001b[39mcuda\u001b[38;5;241m.\u001b[39mget_device_name(\u001b[38;5;241m0\u001b[39m))  \u001b[38;5;66;03m# Should print the name of your GPU (RTX 4050)\u001b[39;00m\n\u001b[0;32m      4\u001b[0m \u001b[38;5;28mprint\u001b[39m(torch\u001b[38;5;241m.\u001b[39mcuda\u001b[38;5;241m.\u001b[39mcurrent_device())\n",
      "File \u001b[1;32mc:\\Users\\suraj\\anaconda3\\Lib\\site-packages\\torch\\cuda\\__init__.py:544\u001b[0m, in \u001b[0;36mget_device_name\u001b[1;34m(device)\u001b[0m\n\u001b[0;32m    532\u001b[0m \u001b[38;5;28;01mdef\u001b[39;00m \u001b[38;5;21mget_device_name\u001b[39m(device: Optional[_device_t] \u001b[38;5;241m=\u001b[39m \u001b[38;5;28;01mNone\u001b[39;00m) \u001b[38;5;241m-\u001b[39m\u001b[38;5;241m>\u001b[39m \u001b[38;5;28mstr\u001b[39m:\n\u001b[0;32m    533\u001b[0m \u001b[38;5;250m    \u001b[39m\u001b[38;5;124mr\u001b[39m\u001b[38;5;124;03m\"\"\"Get the name of a device.\u001b[39;00m\n\u001b[0;32m    534\u001b[0m \n\u001b[0;32m    535\u001b[0m \u001b[38;5;124;03m    Args:\u001b[39;00m\n\u001b[1;32m   (...)\u001b[0m\n\u001b[0;32m    542\u001b[0m \u001b[38;5;124;03m        str: the name of the device\u001b[39;00m\n\u001b[0;32m    543\u001b[0m \u001b[38;5;124;03m    \"\"\"\u001b[39;00m\n\u001b[1;32m--> 544\u001b[0m     \u001b[38;5;28;01mreturn\u001b[39;00m get_device_properties(device)\u001b[38;5;241m.\u001b[39mname\n",
      "File \u001b[1;32mc:\\Users\\suraj\\anaconda3\\Lib\\site-packages\\torch\\cuda\\__init__.py:576\u001b[0m, in \u001b[0;36mget_device_properties\u001b[1;34m(device)\u001b[0m\n\u001b[0;32m    564\u001b[0m \u001b[38;5;28;01mdef\u001b[39;00m \u001b[38;5;21mget_device_properties\u001b[39m(device: Optional[_device_t] \u001b[38;5;241m=\u001b[39m \u001b[38;5;28;01mNone\u001b[39;00m) \u001b[38;5;241m-\u001b[39m\u001b[38;5;241m>\u001b[39m _CudaDeviceProperties:\n\u001b[0;32m    565\u001b[0m \u001b[38;5;250m    \u001b[39m\u001b[38;5;124mr\u001b[39m\u001b[38;5;124;03m\"\"\"Get the properties of a device.\u001b[39;00m\n\u001b[0;32m    566\u001b[0m \n\u001b[0;32m    567\u001b[0m \u001b[38;5;124;03m    Args:\u001b[39;00m\n\u001b[1;32m   (...)\u001b[0m\n\u001b[0;32m    574\u001b[0m \u001b[38;5;124;03m        _CudaDeviceProperties: the properties of the device\u001b[39;00m\n\u001b[0;32m    575\u001b[0m \u001b[38;5;124;03m    \"\"\"\u001b[39;00m\n\u001b[1;32m--> 576\u001b[0m     _lazy_init()  \u001b[38;5;66;03m# will define _get_device_properties\u001b[39;00m\n\u001b[0;32m    577\u001b[0m     device \u001b[38;5;241m=\u001b[39m _get_device_index(device, optional\u001b[38;5;241m=\u001b[39m\u001b[38;5;28;01mTrue\u001b[39;00m)\n\u001b[0;32m    578\u001b[0m     \u001b[38;5;28;01mif\u001b[39;00m device \u001b[38;5;241m<\u001b[39m \u001b[38;5;241m0\u001b[39m \u001b[38;5;129;01mor\u001b[39;00m device \u001b[38;5;241m>\u001b[39m\u001b[38;5;241m=\u001b[39m device_count():\n",
      "File \u001b[1;32mc:\\Users\\suraj\\anaconda3\\Lib\\site-packages\\torch\\cuda\\__init__.py:363\u001b[0m, in \u001b[0;36m_lazy_init\u001b[1;34m()\u001b[0m\n\u001b[0;32m    358\u001b[0m     \u001b[38;5;28;01mraise\u001b[39;00m \u001b[38;5;167;01mRuntimeError\u001b[39;00m(\n\u001b[0;32m    359\u001b[0m         \u001b[38;5;124m\"\u001b[39m\u001b[38;5;124mCannot re-initialize CUDA in forked subprocess. To use CUDA with \u001b[39m\u001b[38;5;124m\"\u001b[39m\n\u001b[0;32m    360\u001b[0m         \u001b[38;5;124m\"\u001b[39m\u001b[38;5;124mmultiprocessing, you must use the \u001b[39m\u001b[38;5;124m'\u001b[39m\u001b[38;5;124mspawn\u001b[39m\u001b[38;5;124m'\u001b[39m\u001b[38;5;124m start method\u001b[39m\u001b[38;5;124m\"\u001b[39m\n\u001b[0;32m    361\u001b[0m     )\n\u001b[0;32m    362\u001b[0m \u001b[38;5;28;01mif\u001b[39;00m \u001b[38;5;129;01mnot\u001b[39;00m \u001b[38;5;28mhasattr\u001b[39m(torch\u001b[38;5;241m.\u001b[39m_C, \u001b[38;5;124m\"\u001b[39m\u001b[38;5;124m_cuda_getDeviceCount\u001b[39m\u001b[38;5;124m\"\u001b[39m):\n\u001b[1;32m--> 363\u001b[0m     \u001b[38;5;28;01mraise\u001b[39;00m \u001b[38;5;167;01mAssertionError\u001b[39;00m(\u001b[38;5;124m\"\u001b[39m\u001b[38;5;124mTorch not compiled with CUDA enabled\u001b[39m\u001b[38;5;124m\"\u001b[39m)\n\u001b[0;32m    364\u001b[0m \u001b[38;5;28;01mif\u001b[39;00m _cudart \u001b[38;5;129;01mis\u001b[39;00m \u001b[38;5;28;01mNone\u001b[39;00m:\n\u001b[0;32m    365\u001b[0m     \u001b[38;5;28;01mraise\u001b[39;00m \u001b[38;5;167;01mAssertionError\u001b[39;00m(\n\u001b[0;32m    366\u001b[0m         \u001b[38;5;124m\"\u001b[39m\u001b[38;5;124mlibcudart functions unavailable. It looks like you have a broken build?\u001b[39m\u001b[38;5;124m\"\u001b[39m\n\u001b[0;32m    367\u001b[0m     )\n",
      "\u001b[1;31mAssertionError\u001b[0m: Torch not compiled with CUDA enabled"
     ]
    }
   ],
   "source": [
    "print(torch.cuda.is_available())  # Should return True\n",
    "print(torch.cuda.device_count())  # Should return the number of GPUs available\n",
    "print(torch.cuda.get_device_name(0))  # Should print the name of your GPU (RTX 4050)\n",
    "print(torch.cuda.current_device())  # Should return 0 (GPU index)\n"
   ]
  },
  {
   "cell_type": "code",
   "execution_count": 5,
   "id": "1b3d82e5",
   "metadata": {},
   "outputs": [],
   "source": [
    "# --- Initialize pynvml ---\n",
    "pynvml.nvmlInit()\n",
    "gpu_handle = pynvml.nvmlDeviceGetHandleByIndex(0) # Assuming GPU 0\n"
   ]
  },
  {
   "cell_type": "code",
   "execution_count": 6,
   "id": "e2c111ef",
   "metadata": {},
   "outputs": [],
   "source": [
    "def get_system_state():\n",
    "    \"\"\"Captures the current state of CPU and GPU.\"\"\"\n",
    "    cpu_load = psutil.cpu_percent()\n",
    "    gpu_util_rates = pynvml.nvmlDeviceGetUtilizationRates(gpu_handle)\n",
    "    gpu_util = gpu_util_rates.gpu\n",
    "    gpu_mem_info = pynvml.nvmlDeviceGetMemoryInfo(gpu_handle)\n",
    "    gpu_mem_used_percent = 100 * (gpu_mem_info.used / gpu_mem_info.total)\n",
    "    return cpu_load, gpu_util, gpu_mem_used_percent\n"
   ]
  },
  {
   "cell_type": "code",
   "execution_count": 57,
   "id": "bd99b83e",
   "metadata": {},
   "outputs": [],
   "source": [
    "def benchmark_vec_add_multi_thread(size, device, num_threads=None):\n",
    "    \"\"\"\n",
    "    Runs vector addition and returns execution time in milliseconds.\n",
    "    For the CPU, it allows specifying the number of threads to use.\n",
    "    \"\"\"\n",
    "    a = torch.randn(size, device=device)\n",
    "    b = torch.randn(size, device=device)\n",
    "    \n",
    "    if device == 'cuda':\n",
    "        # GPU timing remains the same\n",
    "        start_event = torch.cuda.Event(enable_timing=True)\n",
    "        end_event = torch.cuda.Event(enable_timing=True)\n",
    "        torch.cuda.synchronize()\n",
    "        \n",
    "        start_event.record()\n",
    "        c = a + b\n",
    "        end_event.record()\n",
    "        \n",
    "        torch.cuda.synchronize()\n",
    "        return start_event.elapsed_time(end_event)\n",
    "    \n",
    "    elif device == 'cpu':\n",
    "        # For CPU, we control the number of threads\n",
    "        if num_threads is None:\n",
    "            # Use all available threads by default\n",
    "            num_threads = os.cpu_count()\n",
    "\n",
    "        # Save the original number of threads to restore it later\n",
    "        original_threads = torch.get_num_threads()\n",
    "        torch.set_num_threads(num_threads)\n",
    "        \n",
    "        # Verify the setting\n",
    "        # print(f\"Running CPU computation with {torch.get_num_threads()} threads.\")\n",
    "\n",
    "        try:\n",
    "            start_time = time.perf_counter()\n",
    "            c = a + b\n",
    "            end_time = time.perf_counter()\n",
    "            \n",
    "            # Return duration in milliseconds\n",
    "            return (end_time - start_time) * 1000\n",
    "        finally:\n",
    "            # IMPORTANT: Restore the original thread count to avoid side effects\n",
    "            torch.set_num_threads(original_threads)\n",
    "    else:\n",
    "        raise ValueError(\"Device must be 'cpu' or 'cuda'\")"
   ]
  },
  {
   "cell_type": "code",
   "execution_count": 6,
   "id": "eefe7024",
   "metadata": {},
   "outputs": [],
   "source": [
    "def benchmark_vec_add(size, device):\n",
    "    \"\"\"Runs vector addition and returns execution time in milliseconds.\"\"\"\n",
    "    a = torch.randn(size, device=device)\n",
    "    b = torch.randn(size, device=device)\n",
    "    \n",
    "    if device == 'cuda':\n",
    "        # Use CUDA events for accurate GPU timing (this part is correct)\n",
    "        start_event = torch.cuda.Event(enable_timing=True)\n",
    "        end_event = torch.cuda.Event(enable_timing=True)\n",
    "        torch.cuda.synchronize()\n",
    "        \n",
    "        start_event.record()\n",
    "        c = a + b\n",
    "        end_event.record()\n",
    "        \n",
    "        torch.cuda.synchronize()\n",
    "        return start_event.elapsed_time(end_event)\n",
    "    else:\n",
    "        # CORRECTED CPU TIMING: Use time.perf_counter()\n",
    "        start_time = time.perf_counter()\n",
    "        c = a + b\n",
    "        end_time = time.perf_counter()\n",
    "        \n",
    "        # Return duration in milliseconds\n",
    "        return (end_time - start_time) * 1000"
   ]
  },
  {
   "cell_type": "code",
   "execution_count": 58,
   "id": "2d1bae00",
   "metadata": {},
   "outputs": [],
   "source": [
    "# --- Data Collection Logic ---\n",
    "# input_size = 1000000000 # 10^9 this the max limit\n",
    "input_size = 1000\n",
    "task_name = \"vector_add\"\n",
    "#min limit is 10^3\n",
    "# max limit is 5 * 10^ 8 "
   ]
  },
  {
   "cell_type": "code",
   "execution_count": 59,
   "id": "9898dc43",
   "metadata": {},
   "outputs": [],
   "source": [
    "# Capture system state BEFORE running the task\n",
    "cpu_load, gpu_util, gpu_mem = get_system_state()\n"
   ]
  },
  {
   "cell_type": "code",
   "execution_count": 76,
   "id": "78755bea",
   "metadata": {},
   "outputs": [
    {
     "data": {
      "text/plain": [
       "0.032500000088475645"
      ]
     },
     "execution_count": 76,
     "metadata": {},
     "output_type": "execute_result"
    }
   ],
   "source": [
    "# Benchmark\n",
    "cpu_time_ms = benchmark_vec_add_multi_thread(input_size, 'cpu')\n",
    "cpu_time_ms"
   ]
  },
  {
   "cell_type": "code",
   "execution_count": 77,
   "id": "d966bdd1",
   "metadata": {},
   "outputs": [
    {
     "data": {
      "text/plain": [
       "0.10649599879980087"
      ]
     },
     "execution_count": 77,
     "metadata": {},
     "output_type": "execute_result"
    }
   ],
   "source": [
    "gpu_time_ms = benchmark_vec_add(input_size, 'cuda')\n",
    "gpu_time_ms"
   ]
  },
  {
   "cell_type": "code",
   "execution_count": 78,
   "id": "ba4c016d",
   "metadata": {},
   "outputs": [],
   "source": [
    "# Save the data point\n",
    "data_point = [\n",
    "    task_name, \n",
    "    input_size, \n",
    "    cpu_load, \n",
    "    gpu_util,\n",
    "    gpu_mem,\n",
    "    cpu_time_ms, \n",
    "    gpu_time_ms\n",
    "]"
   ]
  },
  {
   "cell_type": "code",
   "execution_count": 80,
   "id": "4ed00b68",
   "metadata": {},
   "outputs": [
    {
     "name": "stdout",
     "output_type": "stream",
     "text": [
      "Data Point: ['vector_add', 1000, 11.8, 0, 96.63608329262335, 0.032500000088475645, 0.10649599879980087]\n"
     ]
    }
   ],
   "source": [
    "print(f\"Data Point: {data_point}\")\n",
    "# Here you would append this list to a CSV file\n"
   ]
  },
  {
   "cell_type": "code",
   "execution_count": 81,
   "id": "21e0c3b5",
   "metadata": {},
   "outputs": [],
   "source": [
    "# --- Shutdown pynvml ---\n",
    "pynvml.nvmlShutdown()"
   ]
  },
  {
   "cell_type": "code",
   "execution_count": 84,
   "id": "47dff842",
   "metadata": {},
   "outputs": [],
   "source": [
    "def get_random_integer(min_val=1000, max_val=10000000):\n",
    "  \"\"\"\n",
    "  Returns a random integer between min_val and max_val (inclusive).\n",
    "  \"\"\"\n",
    "  return random.randint(min_val, max_val)"
   ]
  },
  {
   "cell_type": "code",
   "execution_count": null,
   "id": "3699d96d",
   "metadata": {},
   "outputs": [],
   "source": [
    "DATA_SIZE= 5000\n",
    "min_size = 1000\n",
    "max_size = 500000000\n",
    "task_name = \"vector_add\"\n",
    "for i in range(DATA_SIZE):\n",
    "    vec_size = get_random_integer(min_size,max_size)\n",
    "    cpu_load, gpu_util, gpu_mem = get_system_state()\n",
    "    cpu_time_ms = benchmark_vec_add_multi_thread(input_size, 'cpu')\n",
    "    gpu_time_ms = benchmark_vec_add_multi_thread(input_size, 'cuda')\n",
    "    # Save the data point\n",
    "    data_point = [\n",
    "        task_name, \n",
    "        input_size, \n",
    "        cpu_load, \n",
    "        gpu_util,\n",
    "        gpu_mem,\n",
    "        cpu_time_ms, \n",
    "        gpu_time_ms\n",
    "    ]\n",
    "    \n",
    "\n"
   ]
  },
  {
   "cell_type": "code",
   "execution_count": 87,
   "id": "c092054e",
   "metadata": {},
   "outputs": [
    {
     "name": "stdout",
     "output_type": "stream",
     "text": [
      "Starting data collection... saving to benchmark_data.csv\n",
      "  ... collected 50/500 samples.\n",
      "  ... collected 100/500 samples.\n",
      "  ... collected 150/500 samples.\n",
      "  ... collected 200/500 samples.\n",
      "  ... collected 250/500 samples.\n",
      "  ... collected 300/500 samples.\n",
      "  ... collected 350/500 samples.\n",
      "  ... collected 400/500 samples.\n",
      "  ... collected 450/500 samples.\n",
      "  ... collected 500/500 samples.\n",
      "Data collection complete.\n"
     ]
    }
   ],
   "source": [
    "# --- Configuration ---\n",
    "DATA_SAMPLES = 500  # Reduced for a quick example\n",
    "MIN_SIZE = 1000\n",
    "MAX_SIZE = 50_000_000\n",
    "TASK_NAME = \"vector_add\"\n",
    "CSV_FILENAME = \"benchmark_data.csv\"\n",
    "\n",
    "# --- Define the header for your CSV file ---\n",
    "header = [\n",
    "    \"task_name\", \n",
    "    \"vector_size\", \n",
    "    \"cpu_load_%\", \n",
    "    \"gpu_util_%\",\n",
    "    \"gpu_mem_%\",\n",
    "    \"cpu_time_ms\", \n",
    "    \"gpu_time_ms\"\n",
    "]\n",
    "\n",
    "# --- Main Data Collection Loop ---\n",
    "# Use 'with open' to handle the file safely\n",
    "with open(CSV_FILENAME, 'w', newline='') as f:\n",
    "    # 1. Create a CSV writer object\n",
    "    writer = csv.writer(f)\n",
    "    \n",
    "    # 2. Write the header row once, before the loop starts\n",
    "    writer.writerow(header)\n",
    "    \n",
    "    print(f\"Starting data collection... saving to {CSV_FILENAME}\")\n",
    "    \n",
    "    # 3. Loop to generate and write data points\n",
    "    for i in range(DATA_SAMPLES):\n",
    "        # Generate a new random size for each iteration\n",
    "        vec_size = get_random_integer(MIN_SIZE, MAX_SIZE)\n",
    "        \n",
    "        # Get system state before running benchmarks\n",
    "        cpu_load, gpu_util, gpu_mem = get_system_state()\n",
    "        \n",
    "        # Run benchmarks with the correct 'vec_size' variable\n",
    "        cpu_time_ms = benchmark_vec_add_multi_thread(vec_size, 'cpu')\n",
    "        gpu_time_ms = benchmark_vec_add_multi_thread(vec_size, 'cuda')\n",
    "        \n",
    "        # Assemble the data point for the current iteration\n",
    "        data_point = [\n",
    "            TASK_NAME, \n",
    "            vec_size, \n",
    "            cpu_load, \n",
    "            gpu_util,\n",
    "            gpu_mem,\n",
    "            round(cpu_time_ms, 4), # Rounding for cleaner data \n",
    "            round(gpu_time_ms, 4)\n",
    "        ]\n",
    "        \n",
    "        # 4. Write the data_point list as a new row in the CSV\n",
    "        writer.writerow(data_point)\n",
    "\n",
    "        # Optional: Print progress\n",
    "        if (i + 1) % 50 == 0:\n",
    "            print(f\"  ... collected {i + 1}/{DATA_SAMPLES} samples.\")\n",
    "\n",
    "print(\"Data collection complete.\")"
   ]
  }
 ],
 "metadata": {
  "kernelspec": {
   "display_name": "base",
   "language": "python",
   "name": "python3"
  },
  "language_info": {
   "codemirror_mode": {
    "name": "ipython",
    "version": 3
   },
   "file_extension": ".py",
   "mimetype": "text/x-python",
   "name": "python",
   "nbconvert_exporter": "python",
   "pygments_lexer": "ipython3",
   "version": "3.12.7"
  }
 },
 "nbformat": 4,
 "nbformat_minor": 5
}
